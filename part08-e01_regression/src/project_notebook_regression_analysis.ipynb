{
 "cells": [
  {
   "cell_type": "markdown",
   "metadata": {},
   "source": [
    "# Linear regression"
   ]
  },
  {
   "cell_type": "markdown",
   "metadata": {},
   "source": [
    "Import all the modules you will need in this notebook here:"
   ]
  },
  {
   "cell_type": "code",
   "execution_count": 134,
   "metadata": {},
   "outputs": [],
   "source": [
    "# exercise 0\n",
    "# Put your solution here!\n",
    "import numpy as np\n",
    "import matplotlib.pyplot as plt\n",
    "import statsmodels\n",
    "import statsmodels.api as sm\n",
    "import statsmodels.formula.api as smf\n",
    "# plots a line given an intercept and a slope\n",
    "from statsmodels.graphics.regressionplots import abline_plot\n",
    "import pandas as pd"
   ]
  },
  {
   "cell_type": "markdown",
   "metadata": {},
   "source": [
    "We continue analysing the `fram` heart disease data.\n",
    "\n",
    "First load the data, use the name `fram` for the DataFrame variable. Make sure that in the data you loaded the column and row headers are in place. Checkout the summary of the variables using the `describe` method."
   ]
  },
  {
   "cell_type": "code",
   "execution_count": 135,
   "metadata": {},
   "outputs": [
    {
     "data": {
      "text/html": [
       "<div>\n",
       "<style scoped>\n",
       "    .dataframe tbody tr th:only-of-type {\n",
       "        vertical-align: middle;\n",
       "    }\n",
       "\n",
       "    .dataframe tbody tr th {\n",
       "        vertical-align: top;\n",
       "    }\n",
       "\n",
       "    .dataframe thead th {\n",
       "        text-align: right;\n",
       "    }\n",
       "</style>\n",
       "<table border=\"1\" class=\"dataframe\">\n",
       "  <thead>\n",
       "    <tr style=\"text-align: right;\">\n",
       "      <th></th>\n",
       "      <th>ID</th>\n",
       "      <th>AGE</th>\n",
       "      <th>FRW</th>\n",
       "      <th>SBP</th>\n",
       "      <th>SBP10</th>\n",
       "      <th>DBP</th>\n",
       "      <th>CHOL</th>\n",
       "      <th>CIG</th>\n",
       "      <th>CHD</th>\n",
       "      <th>DEATH</th>\n",
       "      <th>YRS_DTH</th>\n",
       "    </tr>\n",
       "  </thead>\n",
       "  <tbody>\n",
       "    <tr>\n",
       "      <th>count</th>\n",
       "      <td>1394.000000</td>\n",
       "      <td>1394.000000</td>\n",
       "      <td>1394.000000</td>\n",
       "      <td>1394.000000</td>\n",
       "      <td>767.000000</td>\n",
       "      <td>1394.000000</td>\n",
       "      <td>1394.000000</td>\n",
       "      <td>1394.000000</td>\n",
       "      <td>1394.000000</td>\n",
       "      <td>1394.000000</td>\n",
       "      <td>1394.000000</td>\n",
       "    </tr>\n",
       "    <tr>\n",
       "      <th>mean</th>\n",
       "      <td>4737.184362</td>\n",
       "      <td>52.431133</td>\n",
       "      <td>105.365136</td>\n",
       "      <td>148.086083</td>\n",
       "      <td>148.040417</td>\n",
       "      <td>90.135581</td>\n",
       "      <td>234.644907</td>\n",
       "      <td>8.029412</td>\n",
       "      <td>1.187948</td>\n",
       "      <td>1.700861</td>\n",
       "      <td>16.219512</td>\n",
       "    </tr>\n",
       "    <tr>\n",
       "      <th>std</th>\n",
       "      <td>1073.406896</td>\n",
       "      <td>4.781507</td>\n",
       "      <td>17.752489</td>\n",
       "      <td>28.022062</td>\n",
       "      <td>25.706664</td>\n",
       "      <td>14.226235</td>\n",
       "      <td>46.303822</td>\n",
       "      <td>11.584138</td>\n",
       "      <td>2.615976</td>\n",
       "      <td>3.203132</td>\n",
       "      <td>3.921413</td>\n",
       "    </tr>\n",
       "    <tr>\n",
       "      <th>min</th>\n",
       "      <td>1070.000000</td>\n",
       "      <td>45.000000</td>\n",
       "      <td>52.000000</td>\n",
       "      <td>90.000000</td>\n",
       "      <td>94.000000</td>\n",
       "      <td>50.000000</td>\n",
       "      <td>96.000000</td>\n",
       "      <td>0.000000</td>\n",
       "      <td>0.000000</td>\n",
       "      <td>0.000000</td>\n",
       "      <td>1.000000</td>\n",
       "    </tr>\n",
       "    <tr>\n",
       "      <th>25%</th>\n",
       "      <td>3890.250000</td>\n",
       "      <td>48.000000</td>\n",
       "      <td>94.000000</td>\n",
       "      <td>130.000000</td>\n",
       "      <td>130.000000</td>\n",
       "      <td>80.000000</td>\n",
       "      <td>200.000000</td>\n",
       "      <td>0.000000</td>\n",
       "      <td>0.000000</td>\n",
       "      <td>0.000000</td>\n",
       "      <td>18.000000</td>\n",
       "    </tr>\n",
       "    <tr>\n",
       "      <th>50%</th>\n",
       "      <td>4821.000000</td>\n",
       "      <td>52.000000</td>\n",
       "      <td>103.000000</td>\n",
       "      <td>142.000000</td>\n",
       "      <td>145.000000</td>\n",
       "      <td>90.000000</td>\n",
       "      <td>230.000000</td>\n",
       "      <td>0.000000</td>\n",
       "      <td>0.000000</td>\n",
       "      <td>0.000000</td>\n",
       "      <td>18.000000</td>\n",
       "    </tr>\n",
       "    <tr>\n",
       "      <th>75%</th>\n",
       "      <td>5641.750000</td>\n",
       "      <td>56.000000</td>\n",
       "      <td>114.000000</td>\n",
       "      <td>160.000000</td>\n",
       "      <td>160.000000</td>\n",
       "      <td>98.000000</td>\n",
       "      <td>264.000000</td>\n",
       "      <td>20.000000</td>\n",
       "      <td>0.000000</td>\n",
       "      <td>0.000000</td>\n",
       "      <td>18.000000</td>\n",
       "    </tr>\n",
       "    <tr>\n",
       "      <th>max</th>\n",
       "      <td>6442.000000</td>\n",
       "      <td>62.000000</td>\n",
       "      <td>222.000000</td>\n",
       "      <td>300.000000</td>\n",
       "      <td>264.000000</td>\n",
       "      <td>160.000000</td>\n",
       "      <td>430.000000</td>\n",
       "      <td>60.000000</td>\n",
       "      <td>10.000000</td>\n",
       "      <td>10.000000</td>\n",
       "      <td>18.000000</td>\n",
       "    </tr>\n",
       "  </tbody>\n",
       "</table>\n",
       "</div>"
      ],
      "text/plain": [
       "                ID          AGE          FRW          SBP       SBP10  \\\n",
       "count  1394.000000  1394.000000  1394.000000  1394.000000  767.000000   \n",
       "mean   4737.184362    52.431133   105.365136   148.086083  148.040417   \n",
       "std    1073.406896     4.781507    17.752489    28.022062   25.706664   \n",
       "min    1070.000000    45.000000    52.000000    90.000000   94.000000   \n",
       "25%    3890.250000    48.000000    94.000000   130.000000  130.000000   \n",
       "50%    4821.000000    52.000000   103.000000   142.000000  145.000000   \n",
       "75%    5641.750000    56.000000   114.000000   160.000000  160.000000   \n",
       "max    6442.000000    62.000000   222.000000   300.000000  264.000000   \n",
       "\n",
       "               DBP         CHOL          CIG          CHD        DEATH  \\\n",
       "count  1394.000000  1394.000000  1394.000000  1394.000000  1394.000000   \n",
       "mean     90.135581   234.644907     8.029412     1.187948     1.700861   \n",
       "std      14.226235    46.303822    11.584138     2.615976     3.203132   \n",
       "min      50.000000    96.000000     0.000000     0.000000     0.000000   \n",
       "25%      80.000000   200.000000     0.000000     0.000000     0.000000   \n",
       "50%      90.000000   230.000000     0.000000     0.000000     0.000000   \n",
       "75%      98.000000   264.000000    20.000000     0.000000     0.000000   \n",
       "max     160.000000   430.000000    60.000000    10.000000    10.000000   \n",
       "\n",
       "           YRS_DTH  \n",
       "count  1394.000000  \n",
       "mean     16.219512  \n",
       "std       3.921413  \n",
       "min       1.000000  \n",
       "25%      18.000000  \n",
       "50%      18.000000  \n",
       "75%      18.000000  \n",
       "max      18.000000  "
      ]
     },
     "execution_count": 135,
     "metadata": {},
     "output_type": "execute_result"
    }
   ],
   "source": [
    "# exercise 1\n",
    "def get_path(filename):\n",
    "    import sys\n",
    "    import os\n",
    "    prog_name = sys.argv[0]\n",
    "    if os.path.basename(prog_name) == \"__main__.py\":   # Running under TMC\n",
    "        return os.path.join(os.path.dirname(prog_name), \"..\", \"src\", filename)\n",
    "    else:\n",
    "        return filename\n",
    "    \n",
    "fram = pd.read_csv('fram.txt', sep='\\t')\n",
    "fram.describe()\n"
   ]
  },
  {
   "cell_type": "markdown",
   "metadata": {},
   "source": [
    "Create function `rescale` that takes a Series as parameter. It should center the data and normalize it by dividing\n",
    "by 2$\\sigma$, where $\\sigma$ is the standard deviation. Return the rescaled Series."
   ]
  },
  {
   "cell_type": "code",
   "execution_count": 136,
   "metadata": {},
   "outputs": [],
   "source": [
    "# exercise 2\n",
    "# Put your solution here!\n",
    "def rescale(s):\n",
    "    center = s - s.mean()\n",
    "    scale = 2*s.std() \n",
    "    return center/scale"
   ]
  },
  {
   "cell_type": "markdown",
   "metadata": {},
   "source": [
    "Add to the DataFrame the scaled versions of all the continuous variables (with function `rescale`). Add small letter `s` in front of the original variable name to get the name of the scaled variable. For instance, `AGE` -> `sAGE`."
   ]
  },
  {
   "cell_type": "code",
   "execution_count": 137,
   "metadata": {},
   "outputs": [],
   "source": [
    "# exercise 3\n",
    "# Put your solution here!\n",
    "for i in \"AGE FRW SBP DBP CHOL CIG\".split():\n",
    "    fram[\"s\"+i] = rescale(fram[i])"
   ]
  },
  {
   "cell_type": "markdown",
   "metadata": {},
   "source": [
    "Form a model that predicts systolic blood pressure using weight, gender, and cholesterol level as explanatory variables. Store the fitted model in variable named `fit`."
   ]
  },
  {
   "cell_type": "code",
   "execution_count": 138,
   "metadata": {},
   "outputs": [
    {
     "data": {
      "text/html": [
       "<table class=\"simpletable\">\n",
       "<caption>OLS Regression Results</caption>\n",
       "<tr>\n",
       "  <th>Dep. Variable:</th>           <td>SBP</td>       <th>  R-squared:         </th> <td>   0.125</td> \n",
       "</tr>\n",
       "<tr>\n",
       "  <th>Model:</th>                   <td>OLS</td>       <th>  Adj. R-squared:    </th> <td>   0.123</td> \n",
       "</tr>\n",
       "<tr>\n",
       "  <th>Method:</th>             <td>Least Squares</td>  <th>  F-statistic:       </th> <td>   66.37</td> \n",
       "</tr>\n",
       "<tr>\n",
       "  <th>Date:</th>             <td>Fri, 09 Aug 2024</td> <th>  Prob (F-statistic):</th> <td>4.13e-40</td> \n",
       "</tr>\n",
       "<tr>\n",
       "  <th>Time:</th>                 <td>23:14:30</td>     <th>  Log-Likelihood:    </th> <td> -6530.4</td> \n",
       "</tr>\n",
       "<tr>\n",
       "  <th>No. Observations:</th>      <td>  1394</td>      <th>  AIC:               </th> <td>1.307e+04</td>\n",
       "</tr>\n",
       "<tr>\n",
       "  <th>Df Residuals:</th>          <td>  1390</td>      <th>  BIC:               </th> <td>1.309e+04</td>\n",
       "</tr>\n",
       "<tr>\n",
       "  <th>Df Model:</th>              <td>     3</td>      <th>                     </th>     <td> </td>    \n",
       "</tr>\n",
       "<tr>\n",
       "  <th>Covariance Type:</th>      <td>nonrobust</td>    <th>                     </th>     <td> </td>    \n",
       "</tr>\n",
       "</table>\n",
       "<table class=\"simpletable\">\n",
       "<tr>\n",
       "       <td></td>          <th>coef</th>     <th>std err</th>      <th>t</th>      <th>P>|t|</th>  <th>[0.025</th>    <th>0.975]</th>  \n",
       "</tr>\n",
       "<tr>\n",
       "  <th>Intercept</th>   <td>  150.0199</td> <td>    0.985</td> <td>  152.336</td> <td> 0.000</td> <td>  148.088</td> <td>  151.952</td>\n",
       "</tr>\n",
       "<tr>\n",
       "  <th>SEX[T.male]</th> <td>   -4.0659</td> <td>    1.451</td> <td>   -2.803</td> <td> 0.005</td> <td>   -6.912</td> <td>   -1.220</td>\n",
       "</tr>\n",
       "<tr>\n",
       "  <th>sFRW</th>        <td>   17.7205</td> <td>    1.426</td> <td>   12.431</td> <td> 0.000</td> <td>   14.924</td> <td>   20.517</td>\n",
       "</tr>\n",
       "<tr>\n",
       "  <th>sCHOL</th>       <td>    4.9169</td> <td>    1.431</td> <td>    3.436</td> <td> 0.001</td> <td>    2.110</td> <td>    7.724</td>\n",
       "</tr>\n",
       "</table>\n",
       "<table class=\"simpletable\">\n",
       "<tr>\n",
       "  <th>Omnibus:</th>       <td>327.612</td> <th>  Durbin-Watson:     </th> <td>   1.774</td> \n",
       "</tr>\n",
       "<tr>\n",
       "  <th>Prob(Omnibus):</th> <td> 0.000</td>  <th>  Jarque-Bera (JB):  </th> <td> 843.676</td> \n",
       "</tr>\n",
       "<tr>\n",
       "  <th>Skew:</th>          <td> 1.237</td>  <th>  Prob(JB):          </th> <td>6.28e-184</td>\n",
       "</tr>\n",
       "<tr>\n",
       "  <th>Kurtosis:</th>      <td> 5.899</td>  <th>  Cond. No.          </th> <td>    2.79</td> \n",
       "</tr>\n",
       "</table><br/><br/>Notes:<br/>[1] Standard Errors assume that the covariance matrix of the errors is correctly specified."
      ],
      "text/latex": [
       "\\begin{center}\n",
       "\\begin{tabular}{lclc}\n",
       "\\toprule\n",
       "\\textbf{Dep. Variable:}    &       SBP        & \\textbf{  R-squared:         } &     0.125   \\\\\n",
       "\\textbf{Model:}            &       OLS        & \\textbf{  Adj. R-squared:    } &     0.123   \\\\\n",
       "\\textbf{Method:}           &  Least Squares   & \\textbf{  F-statistic:       } &     66.37   \\\\\n",
       "\\textbf{Date:}             & Fri, 09 Aug 2024 & \\textbf{  Prob (F-statistic):} &  4.13e-40   \\\\\n",
       "\\textbf{Time:}             &     23:14:30     & \\textbf{  Log-Likelihood:    } &   -6530.4   \\\\\n",
       "\\textbf{No. Observations:} &        1394      & \\textbf{  AIC:               } & 1.307e+04   \\\\\n",
       "\\textbf{Df Residuals:}     &        1390      & \\textbf{  BIC:               } & 1.309e+04   \\\\\n",
       "\\textbf{Df Model:}         &           3      & \\textbf{                     } &             \\\\\n",
       "\\textbf{Covariance Type:}  &    nonrobust     & \\textbf{                     } &             \\\\\n",
       "\\bottomrule\n",
       "\\end{tabular}\n",
       "\\begin{tabular}{lcccccc}\n",
       "                     & \\textbf{coef} & \\textbf{std err} & \\textbf{t} & \\textbf{P$> |$t$|$} & \\textbf{[0.025} & \\textbf{0.975]}  \\\\\n",
       "\\midrule\n",
       "\\textbf{Intercept}   &     150.0199  &        0.985     &   152.336  &         0.000        &      148.088    &      151.952     \\\\\n",
       "\\textbf{SEX[T.male]} &      -4.0659  &        1.451     &    -2.803  &         0.005        &       -6.912    &       -1.220     \\\\\n",
       "\\textbf{sFRW}        &      17.7205  &        1.426     &    12.431  &         0.000        &       14.924    &       20.517     \\\\\n",
       "\\textbf{sCHOL}       &       4.9169  &        1.431     &     3.436  &         0.001        &        2.110    &        7.724     \\\\\n",
       "\\bottomrule\n",
       "\\end{tabular}\n",
       "\\begin{tabular}{lclc}\n",
       "\\textbf{Omnibus:}       & 327.612 & \\textbf{  Durbin-Watson:     } &     1.774  \\\\\n",
       "\\textbf{Prob(Omnibus):} &   0.000 & \\textbf{  Jarque-Bera (JB):  } &   843.676  \\\\\n",
       "\\textbf{Skew:}          &   1.237 & \\textbf{  Prob(JB):          } & 6.28e-184  \\\\\n",
       "\\textbf{Kurtosis:}      &   5.899 & \\textbf{  Cond. No.          } &      2.79  \\\\\n",
       "\\bottomrule\n",
       "\\end{tabular}\n",
       "%\\caption{OLS Regression Results}\n",
       "\\end{center}\n",
       "\n",
       "Notes: \\newline\n",
       " [1] Standard Errors assume that the covariance matrix of the errors is correctly specified."
      ],
      "text/plain": [
       "<class 'statsmodels.iolib.summary.Summary'>\n",
       "\"\"\"\n",
       "                            OLS Regression Results                            \n",
       "==============================================================================\n",
       "Dep. Variable:                    SBP   R-squared:                       0.125\n",
       "Model:                            OLS   Adj. R-squared:                  0.123\n",
       "Method:                 Least Squares   F-statistic:                     66.37\n",
       "Date:                Fri, 09 Aug 2024   Prob (F-statistic):           4.13e-40\n",
       "Time:                        23:14:30   Log-Likelihood:                -6530.4\n",
       "No. Observations:                1394   AIC:                         1.307e+04\n",
       "Df Residuals:                    1390   BIC:                         1.309e+04\n",
       "Df Model:                           3                                         \n",
       "Covariance Type:            nonrobust                                         \n",
       "===============================================================================\n",
       "                  coef    std err          t      P>|t|      [0.025      0.975]\n",
       "-------------------------------------------------------------------------------\n",
       "Intercept     150.0199      0.985    152.336      0.000     148.088     151.952\n",
       "SEX[T.male]    -4.0659      1.451     -2.803      0.005      -6.912      -1.220\n",
       "sFRW           17.7205      1.426     12.431      0.000      14.924      20.517\n",
       "sCHOL           4.9169      1.431      3.436      0.001       2.110       7.724\n",
       "==============================================================================\n",
       "Omnibus:                      327.612   Durbin-Watson:                   1.774\n",
       "Prob(Omnibus):                  0.000   Jarque-Bera (JB):              843.676\n",
       "Skew:                           1.237   Prob(JB):                    6.28e-184\n",
       "Kurtosis:                       5.899   Cond. No.                         2.79\n",
       "==============================================================================\n",
       "\n",
       "Notes:\n",
       "[1] Standard Errors assume that the covariance matrix of the errors is correctly specified.\n",
       "\"\"\""
      ]
     },
     "execution_count": 138,
     "metadata": {},
     "output_type": "execute_result"
    }
   ],
   "source": [
    "# exercise 4\n",
    "fit = smf.ols(\"SBP ~ sFRW + SEX + sCHOL\", data = fram).fit()\n",
    "fit.summary()\n"
   ]
  },
  {
   "cell_type": "markdown",
   "metadata": {},
   "source": [
    "Add the variable AGE to the model and inspect the estimates of the coefficients using the `summary` method of the fitted model. Again use the name `fit` for the fitted model. (From now on assume that we always use the name `fit` for the variable of the fitted model.)"
   ]
  },
  {
   "cell_type": "code",
   "execution_count": 139,
   "metadata": {},
   "outputs": [
    {
     "data": {
      "text/html": [
       "<table class=\"simpletable\">\n",
       "<caption>OLS Regression Results</caption>\n",
       "<tr>\n",
       "  <th>Dep. Variable:</th>           <td>SBP</td>       <th>  R-squared:         </th> <td>   0.146</td> \n",
       "</tr>\n",
       "<tr>\n",
       "  <th>Model:</th>                   <td>OLS</td>       <th>  Adj. R-squared:    </th> <td>   0.144</td> \n",
       "</tr>\n",
       "<tr>\n",
       "  <th>Method:</th>             <td>Least Squares</td>  <th>  F-statistic:       </th> <td>   59.39</td> \n",
       "</tr>\n",
       "<tr>\n",
       "  <th>Date:</th>             <td>Fri, 09 Aug 2024</td> <th>  Prob (F-statistic):</th> <td>2.44e-46</td> \n",
       "</tr>\n",
       "<tr>\n",
       "  <th>Time:</th>                 <td>23:14:30</td>     <th>  Log-Likelihood:    </th> <td> -6513.6</td> \n",
       "</tr>\n",
       "<tr>\n",
       "  <th>No. Observations:</th>      <td>  1394</td>      <th>  AIC:               </th> <td>1.304e+04</td>\n",
       "</tr>\n",
       "<tr>\n",
       "  <th>Df Residuals:</th>          <td>  1389</td>      <th>  BIC:               </th> <td>1.306e+04</td>\n",
       "</tr>\n",
       "<tr>\n",
       "  <th>Df Model:</th>              <td>     4</td>      <th>                     </th>     <td> </td>    \n",
       "</tr>\n",
       "<tr>\n",
       "  <th>Covariance Type:</th>      <td>nonrobust</td>    <th>                     </th>     <td> </td>    \n",
       "</tr>\n",
       "</table>\n",
       "<table class=\"simpletable\">\n",
       "<tr>\n",
       "       <td></td>          <th>coef</th>     <th>std err</th>      <th>t</th>      <th>P>|t|</th>  <th>[0.025</th>    <th>0.975]</th>  \n",
       "</tr>\n",
       "<tr>\n",
       "  <th>Intercept</th>   <td>  150.1695</td> <td>    0.974</td> <td>  154.221</td> <td> 0.000</td> <td>  148.259</td> <td>  152.080</td>\n",
       "</tr>\n",
       "<tr>\n",
       "  <th>SEX[T.male]</th> <td>   -4.3805</td> <td>    1.435</td> <td>   -3.053</td> <td> 0.002</td> <td>   -7.195</td> <td>   -1.566</td>\n",
       "</tr>\n",
       "<tr>\n",
       "  <th>sFRW</th>        <td>   16.9771</td> <td>    1.415</td> <td>   11.999</td> <td> 0.000</td> <td>   14.202</td> <td>   19.753</td>\n",
       "</tr>\n",
       "<tr>\n",
       "  <th>sCHOL</th>       <td>    4.2696</td> <td>    1.419</td> <td>    3.009</td> <td> 0.003</td> <td>    1.486</td> <td>    7.053</td>\n",
       "</tr>\n",
       "<tr>\n",
       "  <th>sAGE</th>        <td>    8.1332</td> <td>    1.400</td> <td>    5.810</td> <td> 0.000</td> <td>    5.387</td> <td>   10.879</td>\n",
       "</tr>\n",
       "</table>\n",
       "<table class=\"simpletable\">\n",
       "<tr>\n",
       "  <th>Omnibus:</th>       <td>321.087</td> <th>  Durbin-Watson:     </th> <td>   1.807</td> \n",
       "</tr>\n",
       "<tr>\n",
       "  <th>Prob(Omnibus):</th> <td> 0.000</td>  <th>  Jarque-Bera (JB):  </th> <td> 840.955</td> \n",
       "</tr>\n",
       "<tr>\n",
       "  <th>Skew:</th>          <td> 1.206</td>  <th>  Prob(JB):          </th> <td>2.45e-183</td>\n",
       "</tr>\n",
       "<tr>\n",
       "  <th>Kurtosis:</th>      <td> 5.944</td>  <th>  Cond. No.          </th> <td>    2.82</td> \n",
       "</tr>\n",
       "</table><br/><br/>Notes:<br/>[1] Standard Errors assume that the covariance matrix of the errors is correctly specified."
      ],
      "text/latex": [
       "\\begin{center}\n",
       "\\begin{tabular}{lclc}\n",
       "\\toprule\n",
       "\\textbf{Dep. Variable:}    &       SBP        & \\textbf{  R-squared:         } &     0.146   \\\\\n",
       "\\textbf{Model:}            &       OLS        & \\textbf{  Adj. R-squared:    } &     0.144   \\\\\n",
       "\\textbf{Method:}           &  Least Squares   & \\textbf{  F-statistic:       } &     59.39   \\\\\n",
       "\\textbf{Date:}             & Fri, 09 Aug 2024 & \\textbf{  Prob (F-statistic):} &  2.44e-46   \\\\\n",
       "\\textbf{Time:}             &     23:14:30     & \\textbf{  Log-Likelihood:    } &   -6513.6   \\\\\n",
       "\\textbf{No. Observations:} &        1394      & \\textbf{  AIC:               } & 1.304e+04   \\\\\n",
       "\\textbf{Df Residuals:}     &        1389      & \\textbf{  BIC:               } & 1.306e+04   \\\\\n",
       "\\textbf{Df Model:}         &           4      & \\textbf{                     } &             \\\\\n",
       "\\textbf{Covariance Type:}  &    nonrobust     & \\textbf{                     } &             \\\\\n",
       "\\bottomrule\n",
       "\\end{tabular}\n",
       "\\begin{tabular}{lcccccc}\n",
       "                     & \\textbf{coef} & \\textbf{std err} & \\textbf{t} & \\textbf{P$> |$t$|$} & \\textbf{[0.025} & \\textbf{0.975]}  \\\\\n",
       "\\midrule\n",
       "\\textbf{Intercept}   &     150.1695  &        0.974     &   154.221  &         0.000        &      148.259    &      152.080     \\\\\n",
       "\\textbf{SEX[T.male]} &      -4.3805  &        1.435     &    -3.053  &         0.002        &       -7.195    &       -1.566     \\\\\n",
       "\\textbf{sFRW}        &      16.9771  &        1.415     &    11.999  &         0.000        &       14.202    &       19.753     \\\\\n",
       "\\textbf{sCHOL}       &       4.2696  &        1.419     &     3.009  &         0.003        &        1.486    &        7.053     \\\\\n",
       "\\textbf{sAGE}        &       8.1332  &        1.400     &     5.810  &         0.000        &        5.387    &       10.879     \\\\\n",
       "\\bottomrule\n",
       "\\end{tabular}\n",
       "\\begin{tabular}{lclc}\n",
       "\\textbf{Omnibus:}       & 321.087 & \\textbf{  Durbin-Watson:     } &     1.807  \\\\\n",
       "\\textbf{Prob(Omnibus):} &   0.000 & \\textbf{  Jarque-Bera (JB):  } &   840.955  \\\\\n",
       "\\textbf{Skew:}          &   1.206 & \\textbf{  Prob(JB):          } & 2.45e-183  \\\\\n",
       "\\textbf{Kurtosis:}      &   5.944 & \\textbf{  Cond. No.          } &      2.82  \\\\\n",
       "\\bottomrule\n",
       "\\end{tabular}\n",
       "%\\caption{OLS Regression Results}\n",
       "\\end{center}\n",
       "\n",
       "Notes: \\newline\n",
       " [1] Standard Errors assume that the covariance matrix of the errors is correctly specified."
      ],
      "text/plain": [
       "<class 'statsmodels.iolib.summary.Summary'>\n",
       "\"\"\"\n",
       "                            OLS Regression Results                            \n",
       "==============================================================================\n",
       "Dep. Variable:                    SBP   R-squared:                       0.146\n",
       "Model:                            OLS   Adj. R-squared:                  0.144\n",
       "Method:                 Least Squares   F-statistic:                     59.39\n",
       "Date:                Fri, 09 Aug 2024   Prob (F-statistic):           2.44e-46\n",
       "Time:                        23:14:30   Log-Likelihood:                -6513.6\n",
       "No. Observations:                1394   AIC:                         1.304e+04\n",
       "Df Residuals:                    1389   BIC:                         1.306e+04\n",
       "Df Model:                           4                                         \n",
       "Covariance Type:            nonrobust                                         \n",
       "===============================================================================\n",
       "                  coef    std err          t      P>|t|      [0.025      0.975]\n",
       "-------------------------------------------------------------------------------\n",
       "Intercept     150.1695      0.974    154.221      0.000     148.259     152.080\n",
       "SEX[T.male]    -4.3805      1.435     -3.053      0.002      -7.195      -1.566\n",
       "sFRW           16.9771      1.415     11.999      0.000      14.202      19.753\n",
       "sCHOL           4.2696      1.419      3.009      0.003       1.486       7.053\n",
       "sAGE            8.1332      1.400      5.810      0.000       5.387      10.879\n",
       "==============================================================================\n",
       "Omnibus:                      321.087   Durbin-Watson:                   1.807\n",
       "Prob(Omnibus):                  0.000   Jarque-Bera (JB):              840.955\n",
       "Skew:                           1.206   Prob(JB):                    2.45e-183\n",
       "Kurtosis:                       5.944   Cond. No.                         2.82\n",
       "==============================================================================\n",
       "\n",
       "Notes:\n",
       "[1] Standard Errors assume that the covariance matrix of the errors is correctly specified.\n",
       "\"\"\""
      ]
     },
     "execution_count": 139,
     "metadata": {},
     "output_type": "execute_result"
    }
   ],
   "source": [
    "# exercise 5\n",
    "fit = smf.ols(\"SBP ~ sFRW + SEX + sCHOL + sAGE\", data = fram).fit()\n",
    "fit.summary()"
   ]
  },
  {
   "cell_type": "markdown",
   "metadata": {},
   "source": [
    "How much does the inclusion of age increase the explanatory power of the model? Which variables explain the variance of the target variable most?\n",
    "\n",
    "***\n",
    "\n",
    "**Inclusion of Age:**\n",
    "\n",
    "The inclusion of age in the model increases the explanatory power by providing additional information about how blood pressure changes with age.\n",
    "\n",
    "To quantify this increase, you can compare the R-squared values of the model with and without age. A higher R-squared value with the inclusion of age indicates that the model explains a larger proportion of the variance in the target variable (SBP).\n",
    "\n",
    "Variables Explaining Variance:\n",
    "\n",
    "\n",
    "**Weight (FRW):** Likely to have a significant impact on blood pressure. Heavier individuals may have higher blood pressure.\n",
    "\n",
    "**Cholesterol (CHOL):** Cholesterol levels can also influence blood pressure, with higher levels potentially leading to higher blood pressure.\n",
    "\n",
    "**Gender (SEX):** Gender differences might play a role, with potential variations in blood pressure between males and females.\n",
    "\n",
    "**Age (AGE):** Age is a crucial factor as blood pressure typically increases with age. The inclusion of age helps in capturing this trend.\n",
    "\n",
    "By examining the coefficients of the model, you can determine the relative importance of each variable in explaining the variance in blood pressure. The variable with the largest coefficient (in absolute terms) will have the most significant impact on the target variable.\n",
    "***"
   ]
  },
  {
   "cell_type": "markdown",
   "metadata": {},
   "source": [
    "Try to add to the model all the interactions with other variables. "
   ]
  },
  {
   "cell_type": "code",
   "execution_count": 140,
   "metadata": {},
   "outputs": [],
   "source": [
    "# exercise 6\n",
    "fit = smf.ols(\"SBP ~ sFRW + SEX + sFRW:SEX + sCHOL + sCHOL:sFRW + sAGE + sAGE:sFRW + sCHOL:SEX + sAGE:SEX + sCHOL:sAGE\", data = fram).fit()\n"
   ]
  },
  {
   "cell_type": "markdown",
   "metadata": {},
   "source": [
    "Then visualize the model as the function of weight for the youngest (sAGE=-1.0), middle aged (sAGE=0.0), and oldest (sAGE=1.0) women while assuming the background variables to be centered. Remember to consider the changes in the intercept and in the regression coefficient caused by age. Visualize both the data points and the fitted lines."
   ]
  },
  {
   "cell_type": "code",
   "execution_count": 141,
   "metadata": {},
   "outputs": [
    {
     "data": {
      "image/png": "[encoded data removed]",
      "text/plain": [
       "<Figure size 640x480 with 1 Axes>"
      ]
     },
     "metadata": {},
     "output_type": "display_data"
    }
   ],
   "source": [
    "# exercise 7\n",
    "p = fit.params\n",
    "#fram.plot.scatter(\"sFRW\", \"SBP\")\n",
    "fram[fram.SEX==\"female\"].plot.scatter(\"sFRW\", \"SBP\")\n",
    "abline_plot(intercept=p.Intercept - p[\"sAGE\"], slope=p.sFRW - p[\"sAGE:sFRW\"], ax=plt.gca(), color=\"blue\", label=\"young\")\n",
    "abline_plot(intercept=p.Intercept, slope=p.sFRW, ax=plt.gca(), color=\"magenta\", label=\"mid\")\n",
    "abline_plot(intercept=p.Intercept + p[\"sAGE\"], slope=p.sFRW + p[\"sAGE:sFRW\"], ax=plt.gca(), color=\"red\", label=\"old\")\n",
    "plt.legend();"
   ]
  },
  {
   "cell_type": "markdown",
   "metadata": {},
   "source": [
    "How does the dependence of blood pressure on weight change as a person gets older?\n",
    "***\n",
    "\n",
    "Younger Age (lower sAGE): The predicted blood pressure may increase at a slower rate with weight.\n",
    "Middle Age (average sAGE): The rate of increase in predicted blood pressure with weight might be more pronounced.\n",
    "Older Age (higher sAGE): The dependence of blood pressure on weight is likely to be stronger, showing a higher predicted blood pressure for the same weight compared to younger individuals.\n",
    "\n",
    "***"
   ]
  },
  {
   "cell_type": "markdown",
   "metadata": {},
   "source": [
    "### Even more accurate model\n",
    "\n",
    "Include the background variable `sCIG` from the data and its interactions. Visualize the model for systolic blood pressure as the function of the most important explanatory variable. Visualize separate lines for the small (-1.0), average (0.0), and large (1.0) values of `sCHOL`. Other variables can be assumed to be at their mean value."
   ]
  },
  {
   "cell_type": "code",
   "execution_count": 142,
   "metadata": {},
   "outputs": [
    {
     "data": {
      "image/png": "[encoded data removed]",
      "text/plain": [
       "<Figure size 640x480 with 1 Axes>"
      ]
     },
     "metadata": {},
     "output_type": "display_data"
    }
   ],
   "source": [
    "# exercise 8\n",
    "formula = \"SBP ~ sFRW + SEX + sFRW:SEX + sCHOL + sCHOL:sFRW + sAGE + sAGE:sFRW + sCIG + sCIG:sFRW + sCHOL:SEX + sAGE:SEX + sCHOL:sAGE + sCIG:SEX + sCIG:sCHOL + sCIG:sAGE\"\n",
    "fit = smf.ols(formula, data = fram).fit() \n",
    "#fit.summary()\n",
    "p = fit.params\n",
    "#fram.plot.scatter(\"sFRW\", \"SBP\")\n",
    "fram[fram.SEX==\"female\"].plot.scatter(\"sFRW\", \"SBP\")\n",
    "abline_plot(intercept=p.Intercept - p[\"sCHOL\"], slope=p.sFRW - p[\"sCHOL:sFRW\"],\n",
    "ax=plt.gca(), color=\"blue\", label=\"small\")\n",
    "abline_plot(intercept=p.Intercept, slope=p.sFRW,\n",
    "ax=plt.gca(), color=\"magenta\", label=\"average\")\n",
    "abline_plot(intercept=p.Intercept + p[\"sCHOL\"], slope=p.sFRW + p[\"sCHOL:sFRW\"],\n",
    "ax=plt.gca(), color=\"red\", label=\"large\")\n",
    "plt.legend();"
   ]
  },
  {
   "cell_type": "markdown",
   "metadata": {},
   "source": [
    "How does the model and its accuracy look?\n",
    "\n",
    "***\n",
    "\n",
    "The model with interactions seems to be much more accurate and complete, as the model covers interactions between variables very often offering better adjustments in more complex data. It is this more detailed, nuanced approach to mapping how these variables influence systolic blood pressure by including sCIG and visualizing the model for various values of sCHOL. The prediction accuracy is expected to increase, as is indicated by a larger value for R-squared and the reduction of Mean Squared Error, and therefore the model would explain a larger proportion of variance of the dependent variable in systolic blood pressure.\n",
    "\n",
    "***"
   ]
  },
  {
   "cell_type": "markdown",
   "metadata": {},
   "source": [
    "# Logistic regression"
   ]
  },
  {
   "cell_type": "code",
   "execution_count": 143,
   "metadata": {},
   "outputs": [],
   "source": [
    "def logistic(x):\n",
    "    return 1.0 / (1.0 + np.exp(-x))"
   ]
  },
  {
   "cell_type": "markdown",
   "metadata": {},
   "source": [
    "We will continue predicting high blood pressure by taking in some continuous background variables, such as the age."
   ]
  },
  {
   "cell_type": "markdown",
   "metadata": {},
   "source": [
    "Recreate the model `HIGH_BP ~ sFRW + SEX + SEX:sFRW` presented in the introduction. Make sure, that you get the same results. Use name `fit` for the fitted model. Compute and store the error rate into variable `error_rate_orig`."
   ]
  },
  {
   "cell_type": "code",
   "execution_count": 144,
   "metadata": {},
   "outputs": [
    {
     "data": {
      "text/plain": [
       "0.35581061692969873"
      ]
     },
     "execution_count": 144,
     "metadata": {},
     "output_type": "execute_result"
    }
   ],
   "source": [
    "# exercise 9\n",
    "\n",
    "fram[\"HIGH_BP\"] = (fram.SBP >= 140) | (fram.DBP >= 90)\n",
    "fram.HIGH_BP = fram.HIGH_BP.map(int)\n",
    "fit = smf.glm(formula=\"HIGH_BP ~ sFRW + SEX + SEX:sFRW\", data=fram, family=sm.families.Binomial()).fit()\n",
    "fit.summary()\n",
    "error_rate_orig = np.mean(((fit.fittedvalues < 0.5) & fram.HIGH_BP) | ((fit.fittedvalues > 0.5) & ~fram.HIGH_BP))\n",
    "error_rate_orig\n"
   ]
  },
  {
   "cell_type": "markdown",
   "metadata": {},
   "source": [
    "Add the `sAGE` variable and its interactions. Check the prediction accuracy of the model and compare it to the previous model. Store the prediction accuracy to variable `error_rate`."
   ]
  },
  {
   "cell_type": "code",
   "execution_count": 145,
   "metadata": {},
   "outputs": [
    {
     "data": {
      "text/plain": [
       "0.3278335724533716"
      ]
     },
     "execution_count": 145,
     "metadata": {},
     "output_type": "execute_result"
    }
   ],
   "source": [
    "# exercise 10\n",
    "\n",
    "fit = smf.glm(formula=\"HIGH_BP ~ sFRW + SEX + SEX:sFRW + sAGE + sAGE:sFRW + sAGE:SEX\", data=fram, family=sm.families.Binomial()).fit()\n",
    "error_rate = np.mean(((fit.fittedvalues < 0.5) & fram.HIGH_BP) | ((fit.fittedvalues > 0.5) & ~fram.HIGH_BP))\n",
    "error_rate"
   ]
  },
  {
   "cell_type": "markdown",
   "metadata": {},
   "source": [
    "Visualize the predicted probability of high blood pressure as the function of weight. Remember to use normalized values (`rescale`) also for those variables that are not included in the visualization, so that sensible values are used for them (data average). Draw two figures with altogether six curves: young, middle aged, and old women; and young, middle aged, and old men. Use `plt.subplots`. (Plotting works in similar fashion as in the introduction. The argument factors need, however, be changed as in the example about visualisation of continuous variable.) "
   ]
  },
  {
   "cell_type": "code",
   "execution_count": 146,
   "metadata": {},
   "outputs": [
    {
     "data": {
      "image/png": "[encoded data removed]",
      "text/plain": [
       "<Figure size 640x480 with 1 Axes>"
      ]
     },
     "metadata": {},
     "output_type": "display_data"
    }
   ],
   "source": [
    "# exercise 11\n",
    "def logistic(x):\n",
    "    return 1.0 / (1.0 + np.exp(-x))\n",
    "\n",
    "# Put your solution here!\n",
    "X = np.linspace(-2, 4, 100) \n",
    "p = fit.params\n",
    "\n",
    "fit2 = smf.glm(formula=\"HIGH_BP ~ sFRW + SEX + SEX:sFRW\", data=fram, family=sm.families.Binomial()).fit()\n",
    "\n",
    "plt.plot(X, logistic(X*p.sFRW + p.Intercept), color=\"red\", label=\"young\")\n",
    "plt.plot(X,logistic(X*(p.sFRW + p[\"SEX[T.male]:sFRW\"]) + p[\"SEX[T.male]\"] + p.Intercept), color=\"blue\", label=\"male\")\n",
    "plt.xlabel(\"Weight\")\n",
    "plt.ylabel(\"Pr(Has high BP)\")\n",
    "plt.legend();\n",
    "\n"
   ]
  },
  {
   "cell_type": "markdown",
   "metadata": {},
   "source": [
    "How do the models with different ages and genders differ from each other?\n",
    "\n",
    "***\n",
    "Age Effect:\n",
    "\n",
    "Young Age (sAGE = -1.0): Lower predicted probability of high blood pressure due to generally lower risk.\n",
    "Middle Age (sAGE = 0.0): Higher predicted probability compared to younger individuals, as age is a known risk factor.\n",
    "Old Age (sAGE = 1.0): Highest predicted probability, reflecting increased risk with advancing age.\n",
    "\n",
    "Gender Effect:\n",
    "\n",
    "Women (SEX = 0): Different probabilities for high blood pressure based on weight and age, with distinct risk profiles.\n",
    "Men (SEX = 1): Varying probabilities based on weight and age, potentially higher or different risk profiles compared to women.\n",
    "\n",
    "Interaction Between Age and Gender:\n",
    "\n",
    "The model accounts for combined effects of age and gender, showing how variables like weight impact high blood pressure differently for various age and gender groups.\n",
    "\n",
    "Visual Differences:\n",
    "\n",
    "Predicted probabilities visualized as distinct curves for each age and gender combination, illustrating changes in high blood pressure risk across different weights.\n",
    "Separate curves for men and women show different baseline risks and varying sensitivity to weight changes.\n",
    "These differences highlight the importance of considering multiple factors and their interactions for personalized health predictions.\n",
    "***"
   ]
  },
  {
   "cell_type": "markdown",
   "metadata": {},
   "source": [
    "Create here a helper function `train_test_split` that gets a DataFrame as parameter and return a pair of DataFrames: one for training and the second for testing. \n",
    "The function should get parameters in the following way:\n",
    "```python\n",
    "train_test_split(df, train_fraction=0.8)\n",
    "```\n",
    "The data should be split randomly to training and testing DataFrames so that `train_fraction` fraction of data should go into the training set. Use the `sample` method of the DataFrame."
   ]
  },
  {
   "cell_type": "code",
   "execution_count": 147,
   "metadata": {},
   "outputs": [],
   "source": [
    "# exercise 12\n",
    "# Put your solution here!\n",
    "def train_test_split(df, train_fraction = 0.8):\n",
    "    if train_fraction <= 1:\n",
    "        train = df.sample(frac = train_fraction)\n",
    "    else:\n",
    "       train = df.sample(frac = train_fraction, replace = True)\n",
    "    test = df.drop(train.index)\n",
    "    return train, test"
   ]
  },
  {
   "cell_type": "markdown",
   "metadata": {},
   "source": [
    "Check the prediction accuracy of your model using cross validation. Use 100-fold cross validation and training_fraction 0.8."
   ]
  },
  {
   "cell_type": "code",
   "execution_count": 148,
   "metadata": {},
   "outputs": [
    {
     "data": {
      "text/plain": [
       "0.3311827956989247"
      ]
     },
     "execution_count": 148,
     "metadata": {},
     "output_type": "execute_result"
    }
   ],
   "source": [
    "# exercise 13\n",
    "error_model=[]\n",
    "error_null=[]\n",
    "np.random.seed(1)\n",
    "for i in range(100):\n",
    "    train, test = train_test_split(fram, 0.8)\n",
    "    fit = smf.glm(formula=\"HIGH_BP ~ sFRW + SEX + SEX:sFRW + sAGE + sAGE:sFRW + sAGE:SEX\", data=train, family=sm.families.Binomial()).fit()\n",
    "    pred = fit.predict(test, transform=True)\n",
    "    error_rate = np.mean(((pred < 0.5) & (test.HIGH_BP==1)) | ((pred > 0.5) & (test.HIGH_BP==0)))\n",
    "    error_model.append(error_rate)\n",
    "    error_null.append((1-test.HIGH_BP).mean())\n",
    "pd.Series(error_model).mean()\n"
   ]
  },
  {
   "cell_type": "markdown",
   "metadata": {},
   "source": [
    "## Predicting coronary heart disease\n",
    "\n",
    "Let us use again the same data to learn a model for the occurrence of coronary heart disease. We will use logistic regression to predict whether a patient *sometimes* shows symptoms of coronary heart disease. For this, add to the data a binary variable `hasCHD`, that describes the event (`CHD > 0`). The binary variable `hadCHD` can get only two values: 0 or 1. As a sanity check, compute the mean of this variable, which tells the number of positive cases."
   ]
  },
  {
   "cell_type": "code",
   "execution_count": 149,
   "metadata": {},
   "outputs": [
    {
     "data": {
      "text/plain": [
       "0.22022955523672882"
      ]
     },
     "execution_count": 149,
     "metadata": {},
     "output_type": "execute_result"
    }
   ],
   "source": [
    "# exercise 14\n",
    "fram[\"hasCHD\"] = fram.CHD > 0\n",
    "fram.hasCHD = fram.hasCHD.map(int)\n",
    "fram[\"hasCHD\"].mean()"
   ]
  },
  {
   "cell_type": "markdown",
   "metadata": {},
   "source": [
    "Next, form a logistic regression model for variable `hasCHD` by using variables sCHOL, sCIG, and sFRW, and their interactions as explanatory variables. Store the fitted model to variable `fit`. Compute the prediction accuracy of the model, store it to variable `error_rate`."
   ]
  },
  {
   "cell_type": "code",
   "execution_count": 150,
   "metadata": {},
   "outputs": [
    {
     "data": {
      "text/plain": [
       "0.22022955523672882"
      ]
     },
     "execution_count": 150,
     "metadata": {},
     "output_type": "execute_result"
    }
   ],
   "source": [
    "# exercise 15\n",
    "# Put your solution here!\n",
    "fit = smf.glm(formula=\"hasCHD ~ sCHOL + sCIG + sFRW + sCHOL:sCIG + sCHOL:sFRW + sCIG:sFRW\", data=fram, family=sm.families.Binomial()).fit()\n",
    "error_rate = np.mean(((fit.fittedvalues < 0.5) & fram.hasCHD) | ((fit.fittedvalues > 0.5) & ~fram.hasCHD))\n",
    "error_rate"
   ]
  },
  {
   "cell_type": "markdown",
   "metadata": {},
   "source": [
    "Visualize the model by using the most important explanator on the x axis. Visualize both the points (with `plt.scatter`)\n",
    "and the logistic curve (with `plt.plot`)."
   ]
  },
  {
   "cell_type": "code",
   "execution_count": 151,
   "metadata": {},
   "outputs": [
    {
     "data": {
      "text/plain": [
       "Text(0, 0.5, 'hasCHD')"
      ]
     },
     "execution_count": 151,
     "metadata": {},
     "output_type": "execute_result"
    },
    {
     "data": {
      "image/png": "[encoded data removed]",
      "text/plain": [
       "<Figure size 640x480 with 1 Axes>"
      ]
     },
     "metadata": {},
     "output_type": "display_data"
    }
   ],
   "source": [
    "# exercise 16\n",
    "def logistic(x):\n",
    "    return 1.0 / (1.0 + np.exp(-x))\n",
    "# Put your solution here!\n",
    "plt.scatter(fram.sCIG, fram.hasCHD, marker=\"d\")\n",
    "X=np.linspace(-0.5, 3, 100)\n",
    "plt.plot(X, logistic(X*fit.params.sCIG + fit.params.Intercept))\n",
    "plt.xlabel(\"sCIG\")\n",
    "plt.ylabel(\"hasCHD\")"
   ]
  },
  {
   "cell_type": "markdown",
   "metadata": {},
   "source": [
    "Is the prediction accuracy of the model good or bad? Can we expect to have practical use of the model?\n",
    "***\n",
    "To evaluate whether the model's prediction accuracy is good or bad, we look at the model's error rate and other metrics like precision, recall, and the ROC-AUC score. If the error rate is low and the ROC-AUC score is high, the model can be considered good and practically useful.\n",
    "***"
   ]
  },
  {
   "cell_type": "code",
   "execution_count": 152,
   "metadata": {},
   "outputs": [
    {
     "data": {
      "text/plain": [
       "(0.5680503073036688, 0.7797704447632712, 0.22022955523672882)"
      ]
     },
     "execution_count": 152,
     "metadata": {},
     "output_type": "execute_result"
    }
   ],
   "source": [
    "from sklearn.metrics import roc_auc_score, accuracy_score\n",
    "\n",
    "roc_auc = roc_auc_score(fram['hasCHD'], predictions_chd)\n",
    "accuracy = accuracy_score(fram['hasCHD'], predicted_classes_chd)\n",
    "\n",
    "roc_auc, accuracy, error_rate"
   ]
  },
  {
   "cell_type": "markdown",
   "metadata": {},
   "source": [
    "If a person has cholestherol 200, smokes 17 cigarets per day, and has weight 100, then what is the probability that he/she sometimes shows signs of coronal hear disease? Note that the model expects normalized values. Store the normalized values to dictionary called `point`. Store the probability in variable `predicted`."
   ]
  },
  {
   "cell_type": "code",
   "execution_count": 153,
   "metadata": {},
   "outputs": [
    {
     "name": "stderr",
     "output_type": "stream",
     "text": [
      "C:\\Users\\veeti\\AppData\\Local\\Temp\\ipykernel_22532\\3237506361.py:6: FutureWarning: Calling float on a single element Series is deprecated and will raise a TypeError in the future. Use float(ser.iloc[0]) instead\n",
      "  predicted = float(fit.predict(point, transform=True))\n"
     ]
    },
    {
     "data": {
      "text/plain": [
       "0.21616166025041"
      ]
     },
     "execution_count": 153,
     "metadata": {},
     "output_type": "execute_result"
    }
   ],
   "source": [
    "# exercise 17\n",
    "scho = (200 - fram.CHOL.mean())/(2*fram.CHOL.std())\n",
    "sci = (17 - fram.CIG.mean())/(2*fram.CIG.std())\n",
    "sfr = (100 - fram.FRW.mean())/(2*fram.FRW.std())\n",
    "point = {\"sCHOL\":scho, \"sCIG\":sci, \"sFRW\":sfr}\n",
    "predicted = float(fit.predict(point, transform=True))\n",
    "predicted\n",
    "\n"
   ]
  }
 ],
 "metadata": {
  "kernelspec": {
   "display_name": "Python 3",
   "language": "python",
   "name": "python3"
  },
  "language_info": {
   "codemirror_mode": {
    "name": "ipython",
    "version": 3
   },
   "file_extension": ".py",
   "mimetype": "text/x-python",
   "name": "python",
   "nbconvert_exporter": "python",
   "pygments_lexer": "ipython3",
   "version": "3.11.5"
  }
 },
 "nbformat": 4,
 "nbformat_minor": 2
}
